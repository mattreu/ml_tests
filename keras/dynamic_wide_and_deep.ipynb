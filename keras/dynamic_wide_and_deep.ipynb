{
 "cells": [
  {
   "cell_type": "code",
   "execution_count": 7,
   "metadata": {},
   "outputs": [],
   "source": [
    "import tensorflow as tf\n",
    "from sklearn.datasets import fetch_california_housing\n",
    "from sklearn.model_selection import train_test_split"
   ]
  },
  {
   "cell_type": "code",
   "execution_count": 8,
   "metadata": {},
   "outputs": [],
   "source": [
    "housing = fetch_california_housing()\n",
    "X_train_full, X_test, y_train_full, y_test = train_test_split(housing.data, housing.target, random_state=42)\n",
    "X_train, X_valid, y_train, y_valid = train_test_split(X_train_full, y_train_full, random_state=42)\n",
    "X_train_wide, X_train_deep = X_train[:, :5], X_train[:, 2:]\n",
    "X_valid_wide, X_valid_deep = X_valid[:, :5], X_valid[:, 2:]\n",
    "X_test_wide, X_test_deep = X_test[:, :5], X_test[:, 2:]"
   ]
  },
  {
   "cell_type": "code",
   "execution_count": 9,
   "metadata": {},
   "outputs": [],
   "source": [
    "class WideAndDeepModel(tf.keras.Model):\n",
    "    def __init__(self, units=30, activation='relu', **kwargs):\n",
    "        super().__init__(**kwargs)\n",
    "        self.norm_layer_wide = tf.keras.layers.Normalization()\n",
    "        self.norm_layer_deep = tf.keras.layers.Normalization()\n",
    "        self.hidden1 = tf.keras.layers.Dense(units, activation=activation)\n",
    "        self.hidden2 = tf.keras.layers.Dense(units, activation=activation)\n",
    "        self.main_output = tf.keras.layers.Dense(1)\n",
    "        self.aux_output = tf.keras.layers.Dense(1)\n",
    "\n",
    "    def call(self, inputs):\n",
    "        input_wide, input_deep = inputs\n",
    "        norm_wide = self.norm_layer_wide(input_wide)\n",
    "        norm_deep = self.norm_layer_deep(input_deep)\n",
    "        hidden1 = self.hidden1(norm_deep)\n",
    "        hidden2 = self.hidden2(hidden1)\n",
    "        concat = tf.keras.layers.concatenate([norm_wide, hidden2])\n",
    "        output = self.main_output(concat)\n",
    "        aux_output = self.aux_output(hidden2)\n",
    "        return output, aux_output"
   ]
  },
  {
   "cell_type": "code",
   "execution_count": 10,
   "metadata": {},
   "outputs": [],
   "source": [
    "model = WideAndDeepModel(30, activation='relu', name='dynamic_model')"
   ]
  },
  {
   "cell_type": "code",
   "execution_count": 11,
   "metadata": {},
   "outputs": [
    {
     "name": "stdout",
     "output_type": "stream",
     "text": [
      "Epoch 1/20\n",
      "363/363 [==============================] - 2s 3ms/step - loss: 4.0813 - output_1_loss: 2.3386 - output_2_loss: 1.7426 - output_1_root_mean_squared_error: 1.5293 - output_2_root_mean_squared_error: 1.3201 - val_loss: 1.9449 - val_output_1_loss: 1.1198 - val_output_2_loss: 0.8251 - val_output_1_root_mean_squared_error: 1.0582 - val_output_2_root_mean_squared_error: 0.9083\n",
      "Epoch 2/20\n",
      "363/363 [==============================] - 1s 3ms/step - loss: 1.3608 - output_1_loss: 0.6971 - output_2_loss: 0.6637 - output_1_root_mean_squared_error: 0.8349 - output_2_root_mean_squared_error: 0.8147 - val_loss: 7.9693 - val_output_1_loss: 4.0413 - val_output_2_loss: 3.9280 - val_output_1_root_mean_squared_error: 2.0103 - val_output_2_root_mean_squared_error: 1.9819\n",
      "Epoch 3/20\n",
      "363/363 [==============================] - 1s 2ms/step - loss: 1.1697 - output_1_loss: 0.5694 - output_2_loss: 0.6003 - output_1_root_mean_squared_error: 0.7546 - output_2_root_mean_squared_error: 0.7748 - val_loss: 2.2259 - val_output_1_loss: 1.6661 - val_output_2_loss: 0.5599 - val_output_1_root_mean_squared_error: 1.2908 - val_output_2_root_mean_squared_error: 0.7482\n",
      "Epoch 4/20\n",
      "363/363 [==============================] - 1s 2ms/step - loss: 1.0437 - output_1_loss: 0.4992 - output_2_loss: 0.5445 - output_1_root_mean_squared_error: 0.7065 - output_2_root_mean_squared_error: 0.7379 - val_loss: 7.9052 - val_output_1_loss: 4.0824 - val_output_2_loss: 3.8229 - val_output_1_root_mean_squared_error: 2.0205 - val_output_2_root_mean_squared_error: 1.9552\n",
      "Epoch 5/20\n",
      "363/363 [==============================] - 1s 2ms/step - loss: 1.0011 - output_1_loss: 0.4685 - output_2_loss: 0.5326 - output_1_root_mean_squared_error: 0.6844 - output_2_root_mean_squared_error: 0.7298 - val_loss: 6.4034 - val_output_1_loss: 2.4159 - val_output_2_loss: 3.9875 - val_output_1_root_mean_squared_error: 1.5543 - val_output_2_root_mean_squared_error: 1.9969\n",
      "Epoch 6/20\n",
      "363/363 [==============================] - 1s 2ms/step - loss: 0.9435 - output_1_loss: 0.4268 - output_2_loss: 0.5167 - output_1_root_mean_squared_error: 0.6533 - output_2_root_mean_squared_error: 0.7188 - val_loss: 2.0882 - val_output_1_loss: 0.4586 - val_output_2_loss: 1.6296 - val_output_1_root_mean_squared_error: 0.6772 - val_output_2_root_mean_squared_error: 1.2766\n",
      "Epoch 7/20\n",
      "363/363 [==============================] - 1s 2ms/step - loss: 0.8436 - output_1_loss: 0.3847 - output_2_loss: 0.4589 - output_1_root_mean_squared_error: 0.6202 - output_2_root_mean_squared_error: 0.6775 - val_loss: 1.6413 - val_output_1_loss: 1.0115 - val_output_2_loss: 0.6298 - val_output_1_root_mean_squared_error: 1.0058 - val_output_2_root_mean_squared_error: 0.7936\n",
      "Epoch 8/20\n",
      "363/363 [==============================] - 1s 2ms/step - loss: 0.8105 - output_1_loss: 0.3681 - output_2_loss: 0.4424 - output_1_root_mean_squared_error: 0.6067 - output_2_root_mean_squared_error: 0.6651 - val_loss: 1.4333 - val_output_1_loss: 0.3381 - val_output_2_loss: 1.0952 - val_output_1_root_mean_squared_error: 0.5815 - val_output_2_root_mean_squared_error: 1.0465\n",
      "Epoch 9/20\n",
      "363/363 [==============================] - 1s 2ms/step - loss: 0.7929 - output_1_loss: 0.3599 - output_2_loss: 0.4330 - output_1_root_mean_squared_error: 0.5999 - output_2_root_mean_squared_error: 0.6580 - val_loss: 1.4101 - val_output_1_loss: 0.3652 - val_output_2_loss: 1.0450 - val_output_1_root_mean_squared_error: 0.6043 - val_output_2_root_mean_squared_error: 1.0222\n",
      "Epoch 10/20\n",
      "363/363 [==============================] - 1s 2ms/step - loss: 0.7807 - output_1_loss: 0.3524 - output_2_loss: 0.4283 - output_1_root_mean_squared_error: 0.5937 - output_2_root_mean_squared_error: 0.6544 - val_loss: 1.2170 - val_output_1_loss: 0.3274 - val_output_2_loss: 0.8895 - val_output_1_root_mean_squared_error: 0.5722 - val_output_2_root_mean_squared_error: 0.9432\n",
      "Epoch 11/20\n",
      "363/363 [==============================] - 1s 2ms/step - loss: 0.7631 - output_1_loss: 0.3465 - output_2_loss: 0.4165 - output_1_root_mean_squared_error: 0.5887 - output_2_root_mean_squared_error: 0.6454 - val_loss: 6.4051 - val_output_1_loss: 1.1693 - val_output_2_loss: 5.2358 - val_output_1_root_mean_squared_error: 1.0813 - val_output_2_root_mean_squared_error: 2.2882\n",
      "Epoch 12/20\n",
      "363/363 [==============================] - 1s 2ms/step - loss: 0.7713 - output_1_loss: 0.3462 - output_2_loss: 0.4251 - output_1_root_mean_squared_error: 0.5884 - output_2_root_mean_squared_error: 0.6520 - val_loss: 32.9453 - val_output_1_loss: 13.4387 - val_output_2_loss: 19.5066 - val_output_1_root_mean_squared_error: 3.6659 - val_output_2_root_mean_squared_error: 4.4166\n",
      "Epoch 13/20\n",
      "363/363 [==============================] - 1s 2ms/step - loss: 1.0940 - output_1_loss: 0.4737 - output_2_loss: 0.6203 - output_1_root_mean_squared_error: 0.6882 - output_2_root_mean_squared_error: 0.7876 - val_loss: 0.8558 - val_output_1_loss: 0.3355 - val_output_2_loss: 0.5203 - val_output_1_root_mean_squared_error: 0.5792 - val_output_2_root_mean_squared_error: 0.7213\n",
      "Epoch 14/20\n",
      "363/363 [==============================] - 1s 2ms/step - loss: 0.7388 - output_1_loss: 0.3385 - output_2_loss: 0.4003 - output_1_root_mean_squared_error: 0.5819 - output_2_root_mean_squared_error: 0.6327 - val_loss: 0.7047 - val_output_1_loss: 0.3172 - val_output_2_loss: 0.3875 - val_output_1_root_mean_squared_error: 0.5632 - val_output_2_root_mean_squared_error: 0.6225\n",
      "Epoch 15/20\n",
      "363/363 [==============================] - 1s 2ms/step - loss: 0.7277 - output_1_loss: 0.3347 - output_2_loss: 0.3930 - output_1_root_mean_squared_error: 0.5786 - output_2_root_mean_squared_error: 0.6269 - val_loss: 0.7586 - val_output_1_loss: 0.3137 - val_output_2_loss: 0.4449 - val_output_1_root_mean_squared_error: 0.5601 - val_output_2_root_mean_squared_error: 0.6670\n",
      "Epoch 16/20\n",
      "363/363 [==============================] - 1s 2ms/step - loss: 0.7219 - output_1_loss: 0.3325 - output_2_loss: 0.3894 - output_1_root_mean_squared_error: 0.5766 - output_2_root_mean_squared_error: 0.6240 - val_loss: 0.6939 - val_output_1_loss: 0.3086 - val_output_2_loss: 0.3853 - val_output_1_root_mean_squared_error: 0.5555 - val_output_2_root_mean_squared_error: 0.6208\n",
      "Epoch 17/20\n",
      "363/363 [==============================] - 1s 2ms/step - loss: 0.7190 - output_1_loss: 0.3310 - output_2_loss: 0.3881 - output_1_root_mean_squared_error: 0.5753 - output_2_root_mean_squared_error: 0.6230 - val_loss: 0.8461 - val_output_1_loss: 0.3868 - val_output_2_loss: 0.4593 - val_output_1_root_mean_squared_error: 0.6219 - val_output_2_root_mean_squared_error: 0.6777\n",
      "Epoch 18/20\n",
      "363/363 [==============================] - 1s 2ms/step - loss: 0.7130 - output_1_loss: 0.3290 - output_2_loss: 0.3840 - output_1_root_mean_squared_error: 0.5736 - output_2_root_mean_squared_error: 0.6196 - val_loss: 1.8726 - val_output_1_loss: 0.5518 - val_output_2_loss: 1.3208 - val_output_1_root_mean_squared_error: 0.7428 - val_output_2_root_mean_squared_error: 1.1493\n",
      "Epoch 19/20\n",
      "363/363 [==============================] - 1s 2ms/step - loss: 0.7231 - output_1_loss: 0.3318 - output_2_loss: 0.3913 - output_1_root_mean_squared_error: 0.5760 - output_2_root_mean_squared_error: 0.6256 - val_loss: 2.3428 - val_output_1_loss: 0.8238 - val_output_2_loss: 1.5190 - val_output_1_root_mean_squared_error: 0.9076 - val_output_2_root_mean_squared_error: 1.2325\n",
      "Epoch 20/20\n",
      "363/363 [==============================] - 1s 2ms/step - loss: 0.7210 - output_1_loss: 0.3308 - output_2_loss: 0.3902 - output_1_root_mean_squared_error: 0.5751 - output_2_root_mean_squared_error: 0.6247 - val_loss: 3.1487 - val_output_1_loss: 0.8608 - val_output_2_loss: 2.2879 - val_output_1_root_mean_squared_error: 0.9278 - val_output_2_root_mean_squared_error: 1.5126\n"
     ]
    }
   ],
   "source": [
    "optimizer = tf.keras.optimizers.Adam(learning_rate=1e-3)\n",
    "model.compile(loss='mse', optimizer=optimizer, metrics=['RootMeanSquaredError'])\n",
    "model.norm_layer_wide.adapt(X_train_wide)\n",
    "model.norm_layer_deep.adapt(X_train_deep)\n",
    "history = model.fit((X_train_wide, X_train_deep), y_train, epochs=20, validation_data=((X_valid_wide, X_valid_deep), y_valid))"
   ]
  },
  {
   "cell_type": "code",
   "execution_count": 12,
   "metadata": {},
   "outputs": [
    {
     "name": "stdout",
     "output_type": "stream",
     "text": [
      "162/162 [==============================] - 0s 1ms/step - loss: 0.7182 - output_1_loss: 0.3310 - output_2_loss: 0.3872 - output_1_root_mean_squared_error: 0.5753 - output_2_root_mean_squared_error: 0.6222\n"
     ]
    },
    {
     "data": {
      "text/plain": [
       "{'loss': 0.7181921601295471,\n",
       " 'output_1_loss': 0.33102044463157654,\n",
       " 'output_2_loss': 0.3871718943119049,\n",
       " 'output_1_root_mean_squared_error': 0.5753437876701355,\n",
       " 'output_2_root_mean_squared_error': 0.6222313642501831}"
      ]
     },
     "execution_count": 12,
     "metadata": {},
     "output_type": "execute_result"
    }
   ],
   "source": [
    "eval_results_dict = model.evaluate((X_test_wide, X_test_deep), y_test, return_dict=True)\n",
    "eval_results_dict"
   ]
  },
  {
   "cell_type": "markdown",
   "metadata": {},
   "source": [
    "Save/load model"
   ]
  },
  {
   "cell_type": "code",
   "execution_count": 13,
   "metadata": {},
   "outputs": [
    {
     "name": "stdout",
     "output_type": "stream",
     "text": [
      "INFO:tensorflow:Assets written to: test_models/dynamic_model\\assets\n"
     ]
    },
    {
     "name": "stderr",
     "output_type": "stream",
     "text": [
      "INFO:tensorflow:Assets written to: test_models/dynamic_model\\assets\n"
     ]
    }
   ],
   "source": [
    "model.save('test_models/dynamic_model', save_format='tf')"
   ]
  },
  {
   "cell_type": "code",
   "execution_count": 14,
   "metadata": {},
   "outputs": [
    {
     "name": "stdout",
     "output_type": "stream",
     "text": [
      "162/162 [==============================] - 1s 2ms/step - loss: 0.7182 - output_1_loss: 0.3310 - output_2_loss: 0.3872 - output_1_root_mean_squared_error: 0.5753 - output_2_root_mean_squared_error: 0.6222\n"
     ]
    },
    {
     "data": {
      "text/plain": [
       "{'loss': 0.7181921601295471,\n",
       " 'output_1_loss': 0.33102044463157654,\n",
       " 'output_2_loss': 0.3871718943119049,\n",
       " 'output_1_root_mean_squared_error': 0.5753437876701355,\n",
       " 'output_2_root_mean_squared_error': 0.6222313642501831}"
      ]
     },
     "execution_count": 14,
     "metadata": {},
     "output_type": "execute_result"
    }
   ],
   "source": [
    "model = tf.keras.models.load_model('test_models/dynamic_model')\n",
    "eval_results_dict = model.evaluate((X_test_wide, X_test_deep), y_test, return_dict=True)\n",
    "eval_results_dict"
   ]
  },
  {
   "cell_type": "markdown",
   "metadata": {},
   "source": [
    "Callbacks - Checkpoints and early stopping"
   ]
  },
  {
   "cell_type": "code",
   "execution_count": 15,
   "metadata": {},
   "outputs": [],
   "source": [
    "class PrintValTrainRatioCallback(tf.keras.callbacks.Callback):\n",
    "    def on_epoch_end(self, epoch, logs):\n",
    "        ratio = logs['val_loss'] / logs['loss']\n",
    "        print(f\"Epoch={epoch}, val./tr.={ratio:.2f}\")"
   ]
  },
  {
   "cell_type": "code",
   "execution_count": 16,
   "metadata": {},
   "outputs": [
    {
     "name": "stdout",
     "output_type": "stream",
     "text": [
      "Epoch 1/50\n",
      "359/363 [============================>.] - ETA: 0s - loss: 3.3383 - output_1_loss: 1.5835 - output_2_loss: 1.7549 - output_1_root_mean_squared_error: 1.2584 - output_2_root_mean_squared_error: 1.3247Epoch=0, val./tr.=1.75\n",
      "363/363 [==============================] - 2s 2ms/step - loss: 3.3183 - output_1_loss: 1.5732 - output_2_loss: 1.7451 - output_1_root_mean_squared_error: 1.2543 - output_2_root_mean_squared_error: 1.3210 - val_loss: 5.8110 - val_output_1_loss: 3.4114 - val_output_2_loss: 2.3996 - val_output_1_root_mean_squared_error: 1.8470 - val_output_2_root_mean_squared_error: 1.5491\n",
      "Epoch 2/50\n",
      "352/363 [============================>.] - ETA: 0s - loss: 1.1500 - output_1_loss: 0.5209 - output_2_loss: 0.6291 - output_1_root_mean_squared_error: 0.7217 - output_2_root_mean_squared_error: 0.7932Epoch=1, val./tr.=0.92\n",
      "363/363 [==============================] - 1s 2ms/step - loss: 1.1519 - output_1_loss: 0.5217 - output_2_loss: 0.6302 - output_1_root_mean_squared_error: 0.7223 - output_2_root_mean_squared_error: 0.7938 - val_loss: 1.0628 - val_output_1_loss: 0.4409 - val_output_2_loss: 0.6220 - val_output_1_root_mean_squared_error: 0.6640 - val_output_2_root_mean_squared_error: 0.7886\n",
      "Epoch 3/50\n",
      "328/363 [==========================>...] - ETA: 0s - loss: 1.0153 - output_1_loss: 0.4476 - output_2_loss: 0.5677 - output_1_root_mean_squared_error: 0.6690 - output_2_root_mean_squared_error: 0.7535Epoch=2, val./tr.=1.09\n",
      "363/363 [==============================] - 1s 2ms/step - loss: 0.9989 - output_1_loss: 0.4399 - output_2_loss: 0.5589 - output_1_root_mean_squared_error: 0.6633 - output_2_root_mean_squared_error: 0.7476 - val_loss: 1.0913 - val_output_1_loss: 0.5221 - val_output_2_loss: 0.5691 - val_output_1_root_mean_squared_error: 0.7226 - val_output_2_root_mean_squared_error: 0.7544\n",
      "Epoch 4/50\n",
      "332/363 [==========================>...] - ETA: 0s - loss: 0.9405 - output_1_loss: 0.4181 - output_2_loss: 0.5225 - output_1_root_mean_squared_error: 0.6466 - output_2_root_mean_squared_error: 0.7228Epoch=3, val./tr.=1.97\n",
      "363/363 [==============================] - 1s 2ms/step - loss: 0.9354 - output_1_loss: 0.4159 - output_2_loss: 0.5195 - output_1_root_mean_squared_error: 0.6449 - output_2_root_mean_squared_error: 0.7208 - val_loss: 1.8385 - val_output_1_loss: 0.3859 - val_output_2_loss: 1.4526 - val_output_1_root_mean_squared_error: 0.6212 - val_output_2_root_mean_squared_error: 1.2052\n",
      "Epoch 5/50\n",
      "362/363 [============================>.] - ETA: 0s - loss: 0.8943 - output_1_loss: 0.3990 - output_2_loss: 0.4953 - output_1_root_mean_squared_error: 0.6316 - output_2_root_mean_squared_error: 0.7038Epoch=4, val./tr.=1.44\n",
      "363/363 [==============================] - 1s 2ms/step - loss: 0.8939 - output_1_loss: 0.3988 - output_2_loss: 0.4951 - output_1_root_mean_squared_error: 0.6315 - output_2_root_mean_squared_error: 0.7037 - val_loss: 1.2837 - val_output_1_loss: 0.4254 - val_output_2_loss: 0.8583 - val_output_1_root_mean_squared_error: 0.6522 - val_output_2_root_mean_squared_error: 0.9265\n",
      "Epoch 6/50\n",
      "328/363 [==========================>...] - ETA: 0s - loss: 0.8568 - output_1_loss: 0.3863 - output_2_loss: 0.4706 - output_1_root_mean_squared_error: 0.6215 - output_2_root_mean_squared_error: 0.6860Epoch=5, val./tr.=2.57\n",
      "363/363 [==============================] - 1s 2ms/step - loss: 0.8498 - output_1_loss: 0.3833 - output_2_loss: 0.4664 - output_1_root_mean_squared_error: 0.6191 - output_2_root_mean_squared_error: 0.6830 - val_loss: 2.1849 - val_output_1_loss: 0.6745 - val_output_2_loss: 1.5104 - val_output_1_root_mean_squared_error: 0.8213 - val_output_2_root_mean_squared_error: 1.2290\n",
      "Epoch 7/50\n",
      "331/363 [==========================>...] - ETA: 0s - loss: 0.8179 - output_1_loss: 0.3716 - output_2_loss: 0.4464 - output_1_root_mean_squared_error: 0.6096 - output_2_root_mean_squared_error: 0.6681Epoch=6, val./tr.=1.76\n",
      "363/363 [==============================] - 1s 2ms/step - loss: 0.8221 - output_1_loss: 0.3744 - output_2_loss: 0.4477 - output_1_root_mean_squared_error: 0.6119 - output_2_root_mean_squared_error: 0.6691 - val_loss: 1.4467 - val_output_1_loss: 0.7042 - val_output_2_loss: 0.7426 - val_output_1_root_mean_squared_error: 0.8391 - val_output_2_root_mean_squared_error: 0.8617\n",
      "Epoch 8/50\n",
      "337/363 [==========================>...] - ETA: 0s - loss: 0.7968 - output_1_loss: 0.3674 - output_2_loss: 0.4294 - output_1_root_mean_squared_error: 0.6061 - output_2_root_mean_squared_error: 0.6553Epoch=7, val./tr.=1.69\n",
      "363/363 [==============================] - 1s 2ms/step - loss: 0.7939 - output_1_loss: 0.3661 - output_2_loss: 0.4278 - output_1_root_mean_squared_error: 0.6051 - output_2_root_mean_squared_error: 0.6540 - val_loss: 1.3440 - val_output_1_loss: 0.6522 - val_output_2_loss: 0.6919 - val_output_1_root_mean_squared_error: 0.8076 - val_output_2_root_mean_squared_error: 0.8318\n",
      "Epoch 9/50\n",
      "357/363 [============================>.] - ETA: 0s - loss: 0.7738 - output_1_loss: 0.3583 - output_2_loss: 0.4155 - output_1_root_mean_squared_error: 0.5986 - output_2_root_mean_squared_error: 0.6446Epoch=8, val./tr.=2.27\n",
      "363/363 [==============================] - 1s 2ms/step - loss: 0.7766 - output_1_loss: 0.3600 - output_2_loss: 0.4166 - output_1_root_mean_squared_error: 0.6000 - output_2_root_mean_squared_error: 0.6455 - val_loss: 1.7660 - val_output_1_loss: 1.3658 - val_output_2_loss: 0.4003 - val_output_1_root_mean_squared_error: 1.1687 - val_output_2_root_mean_squared_error: 0.6327\n",
      "Epoch 10/50\n",
      "344/363 [===========================>..] - ETA: 0s - loss: 0.7630 - output_1_loss: 0.3580 - output_2_loss: 0.4050 - output_1_root_mean_squared_error: 0.5984 - output_2_root_mean_squared_error: 0.6364Epoch=9, val./tr.=6.34\n",
      "363/363 [==============================] - 1s 2ms/step - loss: 0.7605 - output_1_loss: 0.3565 - output_2_loss: 0.4039 - output_1_root_mean_squared_error: 0.5971 - output_2_root_mean_squared_error: 0.6356 - val_loss: 4.8217 - val_output_1_loss: 4.0570 - val_output_2_loss: 0.7647 - val_output_1_root_mean_squared_error: 2.0142 - val_output_2_root_mean_squared_error: 0.8745\n",
      "Epoch 11/50\n",
      "338/363 [==========================>...] - ETA: 0s - loss: 0.7487 - output_1_loss: 0.3475 - output_2_loss: 0.4012 - output_1_root_mean_squared_error: 0.5895 - output_2_root_mean_squared_error: 0.6334Epoch=10, val./tr.=3.59\n",
      "363/363 [==============================] - 1s 2ms/step - loss: 0.7541 - output_1_loss: 0.3570 - output_2_loss: 0.3970 - output_1_root_mean_squared_error: 0.5975 - output_2_root_mean_squared_error: 0.6301 - val_loss: 2.7078 - val_output_1_loss: 1.6701 - val_output_2_loss: 1.0376 - val_output_1_root_mean_squared_error: 1.2923 - val_output_2_root_mean_squared_error: 1.0186\n",
      "Epoch 12/50\n",
      "328/363 [==========================>...] - ETA: 0s - loss: 0.7549 - output_1_loss: 0.3547 - output_2_loss: 0.4002 - output_1_root_mean_squared_error: 0.5956 - output_2_root_mean_squared_error: 0.6326Epoch=11, val./tr.=2.78\n",
      "363/363 [==============================] - 1s 2ms/step - loss: 0.7523 - output_1_loss: 0.3528 - output_2_loss: 0.3995 - output_1_root_mean_squared_error: 0.5940 - output_2_root_mean_squared_error: 0.6321 - val_loss: 2.0942 - val_output_1_loss: 0.8955 - val_output_2_loss: 1.1987 - val_output_1_root_mean_squared_error: 0.9463 - val_output_2_root_mean_squared_error: 1.0948\n"
     ]
    }
   ],
   "source": [
    "model_b = WideAndDeepModel(30, activation='relu', name='dynamic_model_b')\n",
    "optimizer = tf.keras.optimizers.Adam(learning_rate=1e-3)\n",
    "model_b.compile(loss='mse', optimizer=optimizer, metrics=['RootMeanSquaredError'])\n",
    "model_b.norm_layer_wide.adapt(X_train_wide)\n",
    "model_b.norm_layer_deep.adapt(X_train_deep)\n",
    "\n",
    "checkpoint_cb = tf.keras.callbacks.ModelCheckpoint('test_checkpoints/model_b', save_weights_only=True)\n",
    "early_stopping_cb = tf.keras.callbacks.EarlyStopping(patience=10, restore_best_weights=True)\n",
    "custom_cb = PrintValTrainRatioCallback()\n",
    "history = model_b.fit((X_train_wide, X_train_deep), y_train, epochs=50, validation_data=((X_valid_wide, X_valid_deep), y_valid), \n",
    "                      callbacks=[checkpoint_cb, early_stopping_cb, custom_cb])"
   ]
  }
 ],
 "metadata": {
  "kernelspec": {
   "display_name": "venv",
   "language": "python",
   "name": "python3"
  },
  "language_info": {
   "codemirror_mode": {
    "name": "ipython",
    "version": 3
   },
   "file_extension": ".py",
   "mimetype": "text/x-python",
   "name": "python",
   "nbconvert_exporter": "python",
   "pygments_lexer": "ipython3",
   "version": "3.11.0"
  }
 },
 "nbformat": 4,
 "nbformat_minor": 2
}
