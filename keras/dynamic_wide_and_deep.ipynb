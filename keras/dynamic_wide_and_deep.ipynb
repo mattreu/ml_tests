{
 "cells": [
  {
   "cell_type": "code",
   "execution_count": 21,
   "metadata": {},
   "outputs": [],
   "source": [
    "import tensorflow as tf\n",
    "from sklearn.datasets import fetch_california_housing\n",
    "from sklearn.model_selection import train_test_split"
   ]
  },
  {
   "cell_type": "code",
   "execution_count": 22,
   "metadata": {},
   "outputs": [],
   "source": [
    "housing = fetch_california_housing()\n",
    "X_train_full, X_test, y_train_full, y_test = train_test_split(housing.data, housing.target, random_state=42)\n",
    "X_train, X_valid, y_train, y_valid = train_test_split(X_train_full, y_train_full, random_state=42)\n",
    "X_train_wide, X_train_deep = X_train[:, :5], X_train[:, 2:]\n",
    "X_valid_wide, X_valid_deep = X_valid[:, :5], X_valid[:, 2:]\n",
    "X_test_wide, X_test_deep = X_test[:, :5], X_test[:, 2:]"
   ]
  },
  {
   "cell_type": "code",
   "execution_count": 23,
   "metadata": {},
   "outputs": [],
   "source": [
    "class WideAndDeepModel(tf.keras.Model):\n",
    "    def __init__(self, units=30, activation='relu', **kwargs):\n",
    "        super().__init__(**kwargs)\n",
    "        self.norm_layer_wide = tf.keras.layers.Normalization()\n",
    "        self.norm_layer_deep = tf.keras.layers.Normalization()\n",
    "        self.hidden1 = tf.keras.layers.Dense(units, activation=activation)\n",
    "        self.hidden2 = tf.keras.layers.Dense(units, activation=activation)\n",
    "        self.main_output = tf.keras.layers.Dense(1)\n",
    "        self.aux_output = tf.keras.layers.Dense(1)\n",
    "\n",
    "    def call(self, inputs):\n",
    "        input_wide, input_deep = inputs\n",
    "        norm_wide = self.norm_layer_wide(input_wide)\n",
    "        norm_deep = self.norm_layer_deep(input_deep)\n",
    "        hidden1 = self.hidden1(norm_deep)\n",
    "        hidden2 = self.hidden2(hidden1)\n",
    "        concat = tf.keras.layers.concatenate([norm_wide, hidden2])\n",
    "        output = self.main_output(concat)\n",
    "        aux_output = self.aux_output(hidden2)\n",
    "        return output, aux_output"
   ]
  },
  {
   "cell_type": "code",
   "execution_count": 24,
   "metadata": {},
   "outputs": [],
   "source": [
    "tf.keras.backend.clear_session()\n",
    "tf.random.set_seed(42)\n",
    "model = WideAndDeepModel(30, activation='relu', name='dynamic_model')"
   ]
  },
  {
   "cell_type": "code",
   "execution_count": 25,
   "metadata": {},
   "outputs": [
    {
     "name": "stdout",
     "output_type": "stream",
     "text": [
      "Epoch 1/20\n",
      "363/363 [==============================] - 2s 3ms/step - loss: 3.1215 - output_1_loss: 1.6629 - output_2_loss: 1.4586 - output_1_root_mean_squared_error: 1.2896 - output_2_root_mean_squared_error: 1.2077 - val_loss: 2.6315 - val_output_1_loss: 1.7551 - val_output_2_loss: 0.8765 - val_output_1_root_mean_squared_error: 1.3248 - val_output_2_root_mean_squared_error: 0.9362\n",
      "Epoch 2/20\n",
      "363/363 [==============================] - 1s 2ms/step - loss: 1.1446 - output_1_loss: 0.5472 - output_2_loss: 0.5974 - output_1_root_mean_squared_error: 0.7397 - output_2_root_mean_squared_error: 0.7729 - val_loss: 1.5461 - val_output_1_loss: 0.6529 - val_output_2_loss: 0.8932 - val_output_1_root_mean_squared_error: 0.8080 - val_output_2_root_mean_squared_error: 0.9451\n",
      "Epoch 3/20\n",
      "363/363 [==============================] - 1s 3ms/step - loss: 1.0065 - output_1_loss: 0.4580 - output_2_loss: 0.5485 - output_1_root_mean_squared_error: 0.6768 - output_2_root_mean_squared_error: 0.7406 - val_loss: 1.4734 - val_output_1_loss: 0.6562 - val_output_2_loss: 0.8172 - val_output_1_root_mean_squared_error: 0.8101 - val_output_2_root_mean_squared_error: 0.9040\n",
      "Epoch 4/20\n",
      "363/363 [==============================] - 1s 2ms/step - loss: 0.9525 - output_1_loss: 0.4244 - output_2_loss: 0.5280 - output_1_root_mean_squared_error: 0.6515 - output_2_root_mean_squared_error: 0.7267 - val_loss: 1.0526 - val_output_1_loss: 0.4530 - val_output_2_loss: 0.5996 - val_output_1_root_mean_squared_error: 0.6731 - val_output_2_root_mean_squared_error: 0.7743\n",
      "Epoch 5/20\n",
      "363/363 [==============================] - 1s 2ms/step - loss: 0.8984 - output_1_loss: 0.3983 - output_2_loss: 0.5001 - output_1_root_mean_squared_error: 0.6311 - output_2_root_mean_squared_error: 0.7072 - val_loss: 1.1834 - val_output_1_loss: 0.5016 - val_output_2_loss: 0.6819 - val_output_1_root_mean_squared_error: 0.7082 - val_output_2_root_mean_squared_error: 0.8258\n",
      "Epoch 6/20\n",
      "363/363 [==============================] - 1s 2ms/step - loss: 0.8662 - output_1_loss: 0.3837 - output_2_loss: 0.4826 - output_1_root_mean_squared_error: 0.6194 - output_2_root_mean_squared_error: 0.6947 - val_loss: 0.8100 - val_output_1_loss: 0.3539 - val_output_2_loss: 0.4561 - val_output_1_root_mean_squared_error: 0.5949 - val_output_2_root_mean_squared_error: 0.6754\n",
      "Epoch 7/20\n",
      "363/363 [==============================] - 1s 2ms/step - loss: 0.8368 - output_1_loss: 0.3725 - output_2_loss: 0.4643 - output_1_root_mean_squared_error: 0.6103 - output_2_root_mean_squared_error: 0.6814 - val_loss: 0.9580 - val_output_1_loss: 0.4067 - val_output_2_loss: 0.5513 - val_output_1_root_mean_squared_error: 0.6377 - val_output_2_root_mean_squared_error: 0.7425\n",
      "Epoch 8/20\n",
      "363/363 [==============================] - 1s 3ms/step - loss: 0.8197 - output_1_loss: 0.3658 - output_2_loss: 0.4539 - output_1_root_mean_squared_error: 0.6048 - output_2_root_mean_squared_error: 0.6737 - val_loss: 1.5857 - val_output_1_loss: 0.6314 - val_output_2_loss: 0.9542 - val_output_1_root_mean_squared_error: 0.7946 - val_output_2_root_mean_squared_error: 0.9769\n",
      "Epoch 9/20\n",
      "363/363 [==============================] - 1s 2ms/step - loss: 0.8016 - output_1_loss: 0.3606 - output_2_loss: 0.4409 - output_1_root_mean_squared_error: 0.6005 - output_2_root_mean_squared_error: 0.6640 - val_loss: 2.5754 - val_output_1_loss: 1.1826 - val_output_2_loss: 1.3927 - val_output_1_root_mean_squared_error: 1.0875 - val_output_2_root_mean_squared_error: 1.1801\n",
      "Epoch 10/20\n",
      "363/363 [==============================] - 1s 3ms/step - loss: 0.8029 - output_1_loss: 0.3638 - output_2_loss: 0.4390 - output_1_root_mean_squared_error: 0.6032 - output_2_root_mean_squared_error: 0.6626 - val_loss: 0.9078 - val_output_1_loss: 0.4048 - val_output_2_loss: 0.5029 - val_output_1_root_mean_squared_error: 0.6363 - val_output_2_root_mean_squared_error: 0.7092\n",
      "Epoch 11/20\n",
      "363/363 [==============================] - 2s 4ms/step - loss: 0.7668 - output_1_loss: 0.3493 - output_2_loss: 0.4175 - output_1_root_mean_squared_error: 0.5910 - output_2_root_mean_squared_error: 0.6462 - val_loss: 0.7948 - val_output_1_loss: 0.3250 - val_output_2_loss: 0.4697 - val_output_1_root_mean_squared_error: 0.5701 - val_output_2_root_mean_squared_error: 0.6854\n",
      "Epoch 12/20\n",
      "363/363 [==============================] - 1s 4ms/step - loss: 0.7664 - output_1_loss: 0.3481 - output_2_loss: 0.4182 - output_1_root_mean_squared_error: 0.5900 - output_2_root_mean_squared_error: 0.6467 - val_loss: 3.2054 - val_output_1_loss: 0.7810 - val_output_2_loss: 2.4244 - val_output_1_root_mean_squared_error: 0.8838 - val_output_2_root_mean_squared_error: 1.5570\n",
      "Epoch 13/20\n",
      "363/363 [==============================] - 1s 3ms/step - loss: 0.7665 - output_1_loss: 0.3485 - output_2_loss: 0.4180 - output_1_root_mean_squared_error: 0.5903 - output_2_root_mean_squared_error: 0.6465 - val_loss: 1.3568 - val_output_1_loss: 0.7784 - val_output_2_loss: 0.5783 - val_output_1_root_mean_squared_error: 0.8823 - val_output_2_root_mean_squared_error: 0.7605\n",
      "Epoch 14/20\n",
      "363/363 [==============================] - 1s 3ms/step - loss: 0.7485 - output_1_loss: 0.3444 - output_2_loss: 0.4041 - output_1_root_mean_squared_error: 0.5869 - output_2_root_mean_squared_error: 0.6357 - val_loss: 1.1996 - val_output_1_loss: 0.7554 - val_output_2_loss: 0.4441 - val_output_1_root_mean_squared_error: 0.8692 - val_output_2_root_mean_squared_error: 0.6664\n",
      "Epoch 15/20\n",
      "363/363 [==============================] - 1s 4ms/step - loss: 0.7419 - output_1_loss: 0.3428 - output_2_loss: 0.3991 - output_1_root_mean_squared_error: 0.5855 - output_2_root_mean_squared_error: 0.6317 - val_loss: 2.2680 - val_output_1_loss: 0.8790 - val_output_2_loss: 1.3890 - val_output_1_root_mean_squared_error: 0.9375 - val_output_2_root_mean_squared_error: 1.1786\n",
      "Epoch 16/20\n",
      "363/363 [==============================] - 1s 2ms/step - loss: 0.7446 - output_1_loss: 0.3417 - output_2_loss: 0.4029 - output_1_root_mean_squared_error: 0.5846 - output_2_root_mean_squared_error: 0.6347 - val_loss: 4.4757 - val_output_1_loss: 1.3068 - val_output_2_loss: 3.1689 - val_output_1_root_mean_squared_error: 1.1432 - val_output_2_root_mean_squared_error: 1.7801\n",
      "Epoch 17/20\n",
      "363/363 [==============================] - 1s 3ms/step - loss: 0.7558 - output_1_loss: 0.3434 - output_2_loss: 0.4124 - output_1_root_mean_squared_error: 0.5860 - output_2_root_mean_squared_error: 0.6422 - val_loss: 1.4187 - val_output_1_loss: 0.3272 - val_output_2_loss: 1.0915 - val_output_1_root_mean_squared_error: 0.5720 - val_output_2_root_mean_squared_error: 1.0447\n",
      "Epoch 18/20\n",
      "363/363 [==============================] - 1s 2ms/step - loss: 0.7284 - output_1_loss: 0.3333 - output_2_loss: 0.3951 - output_1_root_mean_squared_error: 0.5773 - output_2_root_mean_squared_error: 0.6286 - val_loss: 2.5897 - val_output_1_loss: 0.8998 - val_output_2_loss: 1.6899 - val_output_1_root_mean_squared_error: 0.9486 - val_output_2_root_mean_squared_error: 1.3000\n",
      "Epoch 19/20\n",
      "363/363 [==============================] - 1s 2ms/step - loss: 0.7281 - output_1_loss: 0.3350 - output_2_loss: 0.3931 - output_1_root_mean_squared_error: 0.5788 - output_2_root_mean_squared_error: 0.6270 - val_loss: 0.9559 - val_output_1_loss: 0.4665 - val_output_2_loss: 0.4894 - val_output_1_root_mean_squared_error: 0.6830 - val_output_2_root_mean_squared_error: 0.6996\n",
      "Epoch 20/20\n",
      "363/363 [==============================] - 1s 2ms/step - loss: 0.7276 - output_1_loss: 0.3380 - output_2_loss: 0.3896 - output_1_root_mean_squared_error: 0.5814 - output_2_root_mean_squared_error: 0.6242 - val_loss: 2.4721 - val_output_1_loss: 0.6391 - val_output_2_loss: 1.8331 - val_output_1_root_mean_squared_error: 0.7994 - val_output_2_root_mean_squared_error: 1.3539\n"
     ]
    }
   ],
   "source": [
    "optimizer = tf.keras.optimizers.Adam(learning_rate=1e-3)\n",
    "model.compile(loss='mse', optimizer=optimizer, metrics=['RootMeanSquaredError'])\n",
    "model.norm_layer_wide.adapt(X_train_wide)\n",
    "model.norm_layer_deep.adapt(X_train_deep)\n",
    "history = model.fit((X_train_wide, X_train_deep), y_train, epochs=20, validation_data=((X_valid_wide, X_valid_deep), y_valid))"
   ]
  },
  {
   "cell_type": "code",
   "execution_count": 26,
   "metadata": {},
   "outputs": [
    {
     "name": "stdout",
     "output_type": "stream",
     "text": [
      "162/162 [==============================] - 0s 1ms/step - loss: 0.7147 - output_1_loss: 0.3296 - output_2_loss: 0.3850 - output_1_root_mean_squared_error: 0.5741 - output_2_root_mean_squared_error: 0.6205\n"
     ]
    },
    {
     "data": {
      "text/plain": [
       "{'loss': 0.7146704792976379,\n",
       " 'output_1_loss': 0.3296428918838501,\n",
       " 'output_2_loss': 0.38502761721611023,\n",
       " 'output_1_root_mean_squared_error': 0.5741453766822815,\n",
       " 'output_2_root_mean_squared_error': 0.6205059289932251}"
      ]
     },
     "execution_count": 26,
     "metadata": {},
     "output_type": "execute_result"
    }
   ],
   "source": [
    "eval_results_dict = model.evaluate((X_test_wide, X_test_deep), y_test, return_dict=True)\n",
    "eval_results_dict"
   ]
  },
  {
   "cell_type": "markdown",
   "metadata": {},
   "source": [
    "Save/load model"
   ]
  },
  {
   "cell_type": "code",
   "execution_count": 27,
   "metadata": {},
   "outputs": [
    {
     "name": "stdout",
     "output_type": "stream",
     "text": [
      "INFO:tensorflow:Assets written to: test_models/dynamic_model\\assets\n"
     ]
    },
    {
     "name": "stderr",
     "output_type": "stream",
     "text": [
      "INFO:tensorflow:Assets written to: test_models/dynamic_model\\assets\n"
     ]
    }
   ],
   "source": [
    "model.save('test_models/dynamic_model', save_format='tf')"
   ]
  },
  {
   "cell_type": "code",
   "execution_count": 28,
   "metadata": {},
   "outputs": [
    {
     "name": "stdout",
     "output_type": "stream",
     "text": [
      "162/162 [==============================] - 1s 1ms/step - loss: 0.7147 - output_1_loss: 0.3296 - output_2_loss: 0.3850 - output_1_root_mean_squared_error: 0.5741 - output_2_root_mean_squared_error: 0.6205\n"
     ]
    },
    {
     "data": {
      "text/plain": [
       "{'loss': 0.7146704792976379,\n",
       " 'output_1_loss': 0.3296428918838501,\n",
       " 'output_2_loss': 0.38502761721611023,\n",
       " 'output_1_root_mean_squared_error': 0.5741453766822815,\n",
       " 'output_2_root_mean_squared_error': 0.6205059289932251}"
      ]
     },
     "execution_count": 28,
     "metadata": {},
     "output_type": "execute_result"
    }
   ],
   "source": [
    "model = tf.keras.models.load_model('test_models/dynamic_model')\n",
    "eval_results_dict = model.evaluate((X_test_wide, X_test_deep), y_test, return_dict=True)\n",
    "eval_results_dict"
   ]
  },
  {
   "cell_type": "markdown",
   "metadata": {},
   "source": [
    "Callbacks - Checkpoints and early stopping"
   ]
  },
  {
   "cell_type": "code",
   "execution_count": 29,
   "metadata": {},
   "outputs": [],
   "source": [
    "from pathlib import Path\n",
    "from time import strftime\n",
    "\n",
    "def get_run_logdir(root_logdir='my_logs'):\n",
    "    return Path(root_logdir) / strftime(\"run_%Y_%m_%d_%H_%M_%S\")\n",
    "\n",
    "run_logdir = get_run_logdir()\n",
    "\n",
    "tensorboard_cb = tf.keras.callbacks.TensorBoard(run_logdir, profile_batch=(100,200))"
   ]
  },
  {
   "cell_type": "code",
   "execution_count": 30,
   "metadata": {},
   "outputs": [],
   "source": [
    "class PrintValTrainRatioCallback(tf.keras.callbacks.Callback):\n",
    "    def on_epoch_end(self, epoch, logs):\n",
    "        ratio = logs['val_loss'] / logs['loss']\n",
    "        print(f\"\\nEpoch={epoch}, val./tr.={ratio:.2f}\")"
   ]
  },
  {
   "cell_type": "code",
   "execution_count": 31,
   "metadata": {},
   "outputs": [
    {
     "name": "stdout",
     "output_type": "stream",
     "text": [
      "Epoch 1/50\n",
      "  1/363 [..............................] - ETA: 7:39 - loss: 15.8181 - output_1_loss: 8.6531 - output_2_loss: 7.1650 - output_1_root_mean_squared_error: 2.9416 - output_2_root_mean_squared_error: 2.6768WARNING:tensorflow:Callback method `on_train_batch_end` is slow compared to the batch time (batch time: 0.0014s vs `on_train_batch_end` time: 0.0052s). Check your callbacks.\n"
     ]
    },
    {
     "name": "stderr",
     "output_type": "stream",
     "text": [
      "WARNING:tensorflow:Callback method `on_train_batch_end` is slow compared to the batch time (batch time: 0.0014s vs `on_train_batch_end` time: 0.0052s). Check your callbacks.\n"
     ]
    },
    {
     "name": "stdout",
     "output_type": "stream",
     "text": [
      "361/363 [============================>.] - ETA: 0s - loss: 3.6463 - output_1_loss: 1.9979 - output_2_loss: 1.6483 - output_1_root_mean_squared_error: 1.4135 - output_2_root_mean_squared_error: 1.2839\n",
      "Epoch=0, val./tr.=0.54\n",
      "363/363 [==============================] - 3s 4ms/step - loss: 3.6380 - output_1_loss: 1.9934 - output_2_loss: 1.6447 - output_1_root_mean_squared_error: 1.4119 - output_2_root_mean_squared_error: 1.2824 - val_loss: 1.9527 - val_output_1_loss: 1.0484 - val_output_2_loss: 0.9043 - val_output_1_root_mean_squared_error: 1.0239 - val_output_2_root_mean_squared_error: 0.9509\n",
      "Epoch 2/50\n",
      "350/363 [===========================>..] - ETA: 0s - loss: 1.3308 - output_1_loss: 0.6726 - output_2_loss: 0.6582 - output_1_root_mean_squared_error: 0.8201 - output_2_root_mean_squared_error: 0.8113\n",
      "Epoch=1, val./tr.=0.97\n",
      "363/363 [==============================] - 1s 3ms/step - loss: 1.3269 - output_1_loss: 0.6694 - output_2_loss: 0.6574 - output_1_root_mean_squared_error: 0.8182 - output_2_root_mean_squared_error: 0.8108 - val_loss: 1.2843 - val_output_1_loss: 0.6254 - val_output_2_loss: 0.6589 - val_output_1_root_mean_squared_error: 0.7908 - val_output_2_root_mean_squared_error: 0.8117\n",
      "Epoch 3/50\n",
      "340/363 [===========================>..] - ETA: 0s - loss: 1.0999 - output_1_loss: 0.5302 - output_2_loss: 0.5697 - output_1_root_mean_squared_error: 0.7281 - output_2_root_mean_squared_error: 0.7548\n",
      "Epoch=2, val./tr.=0.96\n",
      "363/363 [==============================] - 1s 3ms/step - loss: 1.0883 - output_1_loss: 0.5244 - output_2_loss: 0.5640 - output_1_root_mean_squared_error: 0.7241 - output_2_root_mean_squared_error: 0.7510 - val_loss: 1.0424 - val_output_1_loss: 0.4947 - val_output_2_loss: 0.5477 - val_output_1_root_mean_squared_error: 0.7033 - val_output_2_root_mean_squared_error: 0.7401\n",
      "Epoch 4/50\n",
      "344/363 [===========================>..] - ETA: 0s - loss: 0.9931 - output_1_loss: 0.4650 - output_2_loss: 0.5281 - output_1_root_mean_squared_error: 0.6819 - output_2_root_mean_squared_error: 0.7267\n",
      "Epoch=3, val./tr.=1.54\n",
      "363/363 [==============================] - 1s 3ms/step - loss: 0.9905 - output_1_loss: 0.4635 - output_2_loss: 0.5269 - output_1_root_mean_squared_error: 0.6808 - output_2_root_mean_squared_error: 0.7259 - val_loss: 1.5269 - val_output_1_loss: 0.5246 - val_output_2_loss: 1.0023 - val_output_1_root_mean_squared_error: 0.7243 - val_output_2_root_mean_squared_error: 1.0012\n",
      "Epoch 5/50\n",
      "352/363 [============================>.] - ETA: 0s - loss: 0.9158 - output_1_loss: 0.4196 - output_2_loss: 0.4962 - output_1_root_mean_squared_error: 0.6477 - output_2_root_mean_squared_error: 0.7044\n",
      "Epoch=4, val./tr.=0.96\n",
      "363/363 [==============================] - 1s 3ms/step - loss: 0.9154 - output_1_loss: 0.4198 - output_2_loss: 0.4956 - output_1_root_mean_squared_error: 0.6479 - output_2_root_mean_squared_error: 0.7040 - val_loss: 0.8753 - val_output_1_loss: 0.4062 - val_output_2_loss: 0.4692 - val_output_1_root_mean_squared_error: 0.6373 - val_output_2_root_mean_squared_error: 0.6850\n",
      "Epoch 6/50\n",
      "363/363 [==============================] - ETA: 0s - loss: 0.8695 - output_1_loss: 0.3954 - output_2_loss: 0.4741 - output_1_root_mean_squared_error: 0.6288 - output_2_root_mean_squared_error: 0.6885\n",
      "Epoch=5, val./tr.=1.05\n",
      "363/363 [==============================] - 1s 3ms/step - loss: 0.8695 - output_1_loss: 0.3954 - output_2_loss: 0.4741 - output_1_root_mean_squared_error: 0.6288 - output_2_root_mean_squared_error: 0.6885 - val_loss: 0.9087 - val_output_1_loss: 0.4316 - val_output_2_loss: 0.4770 - val_output_1_root_mean_squared_error: 0.6570 - val_output_2_root_mean_squared_error: 0.6907\n",
      "Epoch 7/50\n",
      "355/363 [============================>.] - ETA: 0s - loss: 0.8612 - output_1_loss: 0.3885 - output_2_loss: 0.4728 - output_1_root_mean_squared_error: 0.6233 - output_2_root_mean_squared_error: 0.6876\n",
      "Epoch=6, val./tr.=3.66\n",
      "363/363 [==============================] - 1s 3ms/step - loss: 0.8601 - output_1_loss: 0.3883 - output_2_loss: 0.4718 - output_1_root_mean_squared_error: 0.6232 - output_2_root_mean_squared_error: 0.6869 - val_loss: 3.1451 - val_output_1_loss: 0.9988 - val_output_2_loss: 2.1463 - val_output_1_root_mean_squared_error: 0.9994 - val_output_2_root_mean_squared_error: 1.4650\n",
      "Epoch 8/50\n",
      "343/363 [===========================>..] - ETA: 0s - loss: 0.8178 - output_1_loss: 0.3669 - output_2_loss: 0.4509 - output_1_root_mean_squared_error: 0.6057 - output_2_root_mean_squared_error: 0.6715\n",
      "Epoch=7, val./tr.=8.44\n",
      "363/363 [==============================] - 1s 3ms/step - loss: 0.8153 - output_1_loss: 0.3668 - output_2_loss: 0.4485 - output_1_root_mean_squared_error: 0.6056 - output_2_root_mean_squared_error: 0.6697 - val_loss: 6.8797 - val_output_1_loss: 2.6970 - val_output_2_loss: 4.1827 - val_output_1_root_mean_squared_error: 1.6423 - val_output_2_root_mean_squared_error: 2.0452\n",
      "Epoch 9/50\n",
      "353/363 [============================>.] - ETA: 0s - loss: 0.8256 - output_1_loss: 0.3722 - output_2_loss: 0.4534 - output_1_root_mean_squared_error: 0.6101 - output_2_root_mean_squared_error: 0.6733\n",
      "Epoch=8, val./tr.=7.45\n",
      "363/363 [==============================] - 1s 3ms/step - loss: 0.8232 - output_1_loss: 0.3713 - output_2_loss: 0.4519 - output_1_root_mean_squared_error: 0.6093 - output_2_root_mean_squared_error: 0.6723 - val_loss: 6.1353 - val_output_1_loss: 2.5152 - val_output_2_loss: 3.6201 - val_output_1_root_mean_squared_error: 1.5859 - val_output_2_root_mean_squared_error: 1.9027\n",
      "Epoch 10/50\n",
      "347/363 [===========================>..] - ETA: 0s - loss: 0.8285 - output_1_loss: 0.3749 - output_2_loss: 0.4536 - output_1_root_mean_squared_error: 0.6123 - output_2_root_mean_squared_error: 0.6735\n",
      "Epoch=9, val./tr.=4.96\n",
      "363/363 [==============================] - 1s 3ms/step - loss: 0.8281 - output_1_loss: 0.3751 - output_2_loss: 0.4529 - output_1_root_mean_squared_error: 0.6125 - output_2_root_mean_squared_error: 0.6730 - val_loss: 4.1103 - val_output_1_loss: 1.7983 - val_output_2_loss: 2.3119 - val_output_1_root_mean_squared_error: 1.3410 - val_output_2_root_mean_squared_error: 1.5205\n",
      "Epoch 11/50\n",
      "361/363 [============================>.] - ETA: 0s - loss: 0.7832 - output_1_loss: 0.3581 - output_2_loss: 0.4252 - output_1_root_mean_squared_error: 0.5984 - output_2_root_mean_squared_error: 0.6521\n",
      "Epoch=10, val./tr.=1.10\n",
      "363/363 [==============================] - 2s 6ms/step - loss: 0.7829 - output_1_loss: 0.3577 - output_2_loss: 0.4252 - output_1_root_mean_squared_error: 0.5981 - output_2_root_mean_squared_error: 0.6521 - val_loss: 0.8628 - val_output_1_loss: 0.3847 - val_output_2_loss: 0.4780 - val_output_1_root_mean_squared_error: 0.6203 - val_output_2_root_mean_squared_error: 0.6914\n",
      "Epoch 12/50\n",
      "361/363 [============================>.] - ETA: 0s - loss: 0.7786 - output_1_loss: 0.3565 - output_2_loss: 0.4221 - output_1_root_mean_squared_error: 0.5971 - output_2_root_mean_squared_error: 0.6497\n",
      "Epoch=11, val./tr.=2.28\n",
      "363/363 [==============================] - 1s 4ms/step - loss: 0.7768 - output_1_loss: 0.3556 - output_2_loss: 0.4212 - output_1_root_mean_squared_error: 0.5963 - output_2_root_mean_squared_error: 0.6490 - val_loss: 1.7709 - val_output_1_loss: 0.7450 - val_output_2_loss: 1.0259 - val_output_1_root_mean_squared_error: 0.8631 - val_output_2_root_mean_squared_error: 1.0129\n",
      "Epoch 13/50\n",
      "350/363 [===========================>..] - ETA: 0s - loss: 0.7620 - output_1_loss: 0.3501 - output_2_loss: 0.4119 - output_1_root_mean_squared_error: 0.5917 - output_2_root_mean_squared_error: 0.6418\n",
      "Epoch=12, val./tr.=1.30\n",
      "363/363 [==============================] - 2s 6ms/step - loss: 0.7619 - output_1_loss: 0.3498 - output_2_loss: 0.4121 - output_1_root_mean_squared_error: 0.5914 - output_2_root_mean_squared_error: 0.6420 - val_loss: 0.9885 - val_output_1_loss: 0.4070 - val_output_2_loss: 0.5815 - val_output_1_root_mean_squared_error: 0.6380 - val_output_2_root_mean_squared_error: 0.7626\n",
      "Epoch 14/50\n",
      "358/363 [============================>.] - ETA: 0s - loss: 0.7492 - output_1_loss: 0.3451 - output_2_loss: 0.4040 - output_1_root_mean_squared_error: 0.5875 - output_2_root_mean_squared_error: 0.6356\n",
      "Epoch=13, val./tr.=1.46\n",
      "363/363 [==============================] - 1s 3ms/step - loss: 0.7493 - output_1_loss: 0.3450 - output_2_loss: 0.4044 - output_1_root_mean_squared_error: 0.5873 - output_2_root_mean_squared_error: 0.6359 - val_loss: 1.0915 - val_output_1_loss: 0.4917 - val_output_2_loss: 0.5998 - val_output_1_root_mean_squared_error: 0.7012 - val_output_2_root_mean_squared_error: 0.7744\n",
      "Epoch 15/50\n",
      "343/363 [===========================>..] - ETA: 0s - loss: 0.7477 - output_1_loss: 0.3453 - output_2_loss: 0.4024 - output_1_root_mean_squared_error: 0.5876 - output_2_root_mean_squared_error: 0.6344\n",
      "Epoch=14, val./tr.=1.57\n",
      "363/363 [==============================] - 1s 3ms/step - loss: 0.7423 - output_1_loss: 0.3423 - output_2_loss: 0.4000 - output_1_root_mean_squared_error: 0.5851 - output_2_root_mean_squared_error: 0.6325 - val_loss: 1.1687 - val_output_1_loss: 0.5218 - val_output_2_loss: 0.6469 - val_output_1_root_mean_squared_error: 0.7223 - val_output_2_root_mean_squared_error: 0.8043\n",
      "Epoch 16/50\n",
      "347/363 [===========================>..] - ETA: 0s - loss: 0.7399 - output_1_loss: 0.3416 - output_2_loss: 0.3982 - output_1_root_mean_squared_error: 0.5845 - output_2_root_mean_squared_error: 0.6311\n",
      "Epoch=15, val./tr.=1.43\n",
      "363/363 [==============================] - 1s 3ms/step - loss: 0.7378 - output_1_loss: 0.3403 - output_2_loss: 0.3975 - output_1_root_mean_squared_error: 0.5833 - output_2_root_mean_squared_error: 0.6305 - val_loss: 1.0570 - val_output_1_loss: 0.4874 - val_output_2_loss: 0.5696 - val_output_1_root_mean_squared_error: 0.6982 - val_output_2_root_mean_squared_error: 0.7547\n",
      "Epoch 17/50\n",
      "344/363 [===========================>..] - ETA: 0s - loss: 0.7350 - output_1_loss: 0.3399 - output_2_loss: 0.3951 - output_1_root_mean_squared_error: 0.5830 - output_2_root_mean_squared_error: 0.6285\n",
      "Epoch=16, val./tr.=1.32\n",
      "363/363 [==============================] - 1s 4ms/step - loss: 0.7367 - output_1_loss: 0.3404 - output_2_loss: 0.3962 - output_1_root_mean_squared_error: 0.5835 - output_2_root_mean_squared_error: 0.6295 - val_loss: 0.9744 - val_output_1_loss: 0.4559 - val_output_2_loss: 0.5184 - val_output_1_root_mean_squared_error: 0.6752 - val_output_2_root_mean_squared_error: 0.7200\n",
      "Epoch 18/50\n",
      "348/363 [===========================>..] - ETA: 0s - loss: 0.7265 - output_1_loss: 0.3376 - output_2_loss: 0.3889 - output_1_root_mean_squared_error: 0.5810 - output_2_root_mean_squared_error: 0.6236\n",
      "Epoch=17, val./tr.=5.12\n",
      "363/363 [==============================] - 1s 4ms/step - loss: 0.7242 - output_1_loss: 0.3354 - output_2_loss: 0.3887 - output_1_root_mean_squared_error: 0.5792 - output_2_root_mean_squared_error: 0.6235 - val_loss: 3.7101 - val_output_1_loss: 1.3402 - val_output_2_loss: 2.3698 - val_output_1_root_mean_squared_error: 1.1577 - val_output_2_root_mean_squared_error: 1.5394\n",
      "Epoch 19/50\n",
      "357/363 [============================>.] - ETA: 0s - loss: 0.7399 - output_1_loss: 0.3398 - output_2_loss: 0.4001 - output_1_root_mean_squared_error: 0.5829 - output_2_root_mean_squared_error: 0.6326\n",
      "Epoch=18, val./tr.=5.26\n",
      "363/363 [==============================] - 1s 3ms/step - loss: 0.7368 - output_1_loss: 0.3384 - output_2_loss: 0.3984 - output_1_root_mean_squared_error: 0.5817 - output_2_root_mean_squared_error: 0.6312 - val_loss: 3.8792 - val_output_1_loss: 1.2323 - val_output_2_loss: 2.6469 - val_output_1_root_mean_squared_error: 1.1101 - val_output_2_root_mean_squared_error: 1.6269\n",
      "Epoch 20/50\n",
      "355/363 [============================>.] - ETA: 0s - loss: 0.7609 - output_1_loss: 0.3452 - output_2_loss: 0.4158 - output_1_root_mean_squared_error: 0.5875 - output_2_root_mean_squared_error: 0.6448\n",
      "Epoch=19, val./tr.=4.41\n",
      "363/363 [==============================] - 1s 4ms/step - loss: 0.7615 - output_1_loss: 0.3456 - output_2_loss: 0.4159 - output_1_root_mean_squared_error: 0.5879 - output_2_root_mean_squared_error: 0.6449 - val_loss: 3.3618 - val_output_1_loss: 1.3627 - val_output_2_loss: 1.9990 - val_output_1_root_mean_squared_error: 1.1674 - val_output_2_root_mean_squared_error: 1.4139\n",
      "Epoch 21/50\n",
      "351/363 [============================>.] - ETA: 0s - loss: 0.7300 - output_1_loss: 0.3388 - output_2_loss: 0.3912 - output_1_root_mean_squared_error: 0.5821 - output_2_root_mean_squared_error: 0.6255\n",
      "Epoch=20, val./tr.=1.41\n",
      "363/363 [==============================] - 1s 4ms/step - loss: 0.7283 - output_1_loss: 0.3379 - output_2_loss: 0.3904 - output_1_root_mean_squared_error: 0.5813 - output_2_root_mean_squared_error: 0.6248 - val_loss: 1.0280 - val_output_1_loss: 0.4473 - val_output_2_loss: 0.5807 - val_output_1_root_mean_squared_error: 0.6688 - val_output_2_root_mean_squared_error: 0.7620\n"
     ]
    }
   ],
   "source": [
    "model_b = WideAndDeepModel(30, activation='relu', name='dynamic_model_b')\n",
    "optimizer = tf.keras.optimizers.Adam(learning_rate=1e-3)\n",
    "model_b.compile(loss='mse', optimizer=optimizer, metrics=['RootMeanSquaredError'])\n",
    "model_b.norm_layer_wide.adapt(X_train_wide)\n",
    "model_b.norm_layer_deep.adapt(X_train_deep)\n",
    "\n",
    "checkpoint_cb = tf.keras.callbacks.ModelCheckpoint('test_checkpoints/model_b', save_weights_only=True)\n",
    "early_stopping_cb = tf.keras.callbacks.EarlyStopping(patience=10, restore_best_weights=True)\n",
    "custom_cb = PrintValTrainRatioCallback()\n",
    "history = model_b.fit((X_train_wide, X_train_deep), y_train, epochs=50, validation_data=((X_valid_wide, X_valid_deep), y_valid), \n",
    "                      callbacks=[checkpoint_cb, early_stopping_cb, custom_cb, tensorboard_cb])"
   ]
  }
 ],
 "metadata": {
  "kernelspec": {
   "display_name": "venv",
   "language": "python",
   "name": "python3"
  },
  "language_info": {
   "codemirror_mode": {
    "name": "ipython",
    "version": 3
   },
   "file_extension": ".py",
   "mimetype": "text/x-python",
   "name": "python",
   "nbconvert_exporter": "python",
   "pygments_lexer": "ipython3",
   "version": "3.11.0"
  }
 },
 "nbformat": 4,
 "nbformat_minor": 2
}
