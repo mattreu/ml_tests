{
 "cells": [
  {
   "cell_type": "code",
   "execution_count": 1,
   "metadata": {},
   "outputs": [
    {
     "name": "stdout",
     "output_type": "stream",
     "text": [
      "Downloading data from https://storage.googleapis.com/tensorflow/tf-keras-datasets/train-labels-idx1-ubyte.gz\n",
      "29515/29515 [==============================] - 0s 2us/step\n",
      "Downloading data from https://storage.googleapis.com/tensorflow/tf-keras-datasets/train-images-idx3-ubyte.gz\n",
      "26421880/26421880 [==============================] - 25s 1us/step\n",
      "Downloading data from https://storage.googleapis.com/tensorflow/tf-keras-datasets/t10k-labels-idx1-ubyte.gz\n",
      "5148/5148 [==============================] - 0s 0s/step\n",
      "Downloading data from https://storage.googleapis.com/tensorflow/tf-keras-datasets/t10k-images-idx3-ubyte.gz\n",
      "4422102/4422102 [==============================] - 9s 2us/step\n"
     ]
    }
   ],
   "source": [
    "import tensorflow as tf\n",
    "\n",
    "fashion_mnist = tf.keras.datasets.fashion_mnist.load_data()\n",
    "(X_train_full, y_train_full), (X_test, y_test) = fashion_mnist\n",
    "X_train, y_train = X_train_full[:-5000], y_train_full[:-5000]\n",
    "X_valid, y_valid = X_train_full[-5000:], y_train_full[-5000:]"
   ]
  },
  {
   "cell_type": "code",
   "execution_count": 2,
   "metadata": {},
   "outputs": [],
   "source": [
    "# scaling colors to range 0-1\n",
    "X_train, X_valid, X_test = X_train / 255., X_valid / 255., X_test / 255."
   ]
  },
  {
   "cell_type": "code",
   "execution_count": 3,
   "metadata": {},
   "outputs": [],
   "source": [
    "class_names = ['Koszulka', 'Spodnie', 'Sweter', 'Sukienka', 'Płaszcz', 'Sandał', 'Koszula', 'Tenisówka', 'Torebka', 'Trzewik']"
   ]
  },
  {
   "cell_type": "code",
   "execution_count": 4,
   "metadata": {},
   "outputs": [],
   "source": [
    "tf.random.set_seed(42)\n",
    "model = tf.keras.Sequential()\n",
    "model.add(tf.keras.layers.InputLayer(input_shape=[28,28]))\n",
    "model.add(tf.keras.layers.Flatten())\n",
    "model.add(tf.keras.layers.Dense(300, activation='relu'))\n",
    "model.add(tf.keras.layers.Dense(100, activation='relu'))\n",
    "model.add(tf.keras.layers.Dense(10, activation='softmax'))"
   ]
  },
  {
   "cell_type": "code",
   "execution_count": null,
   "metadata": {},
   "outputs": [],
   "source": [
    "# alternative\n",
    "#\n",
    "# model = tf.keras.Sequential([\n",
    "#     tf.keras.layers.Flatten(input_shape=[28,28]),\n",
    "#     tf.keras.layers.Dense(300, activation='relu'),\n",
    "#     tf.keras.layers.Dense(100, activation='relu'),\n",
    "#     tf.keras.layers.Dense(10, activation='softmax')\n",
    "# ])"
   ]
  },
  {
   "cell_type": "code",
   "execution_count": 5,
   "metadata": {},
   "outputs": [
    {
     "name": "stdout",
     "output_type": "stream",
     "text": [
      "Model: \"sequential\"\n",
      "_________________________________________________________________\n",
      " Layer (type)                Output Shape              Param #   \n",
      "=================================================================\n",
      " flatten (Flatten)           (None, 784)               0         \n",
      "                                                                 \n",
      " dense (Dense)               (None, 300)               235500    \n",
      "                                                                 \n",
      " dense_1 (Dense)             (None, 100)               30100     \n",
      "                                                                 \n",
      " dense_2 (Dense)             (None, 10)                1010      \n",
      "                                                                 \n",
      "=================================================================\n",
      "Total params: 266610 (1.02 MB)\n",
      "Trainable params: 266610 (1.02 MB)\n",
      "Non-trainable params: 0 (0.00 Byte)\n",
      "_________________________________________________________________\n"
     ]
    }
   ],
   "source": [
    "model.summary()"
   ]
  },
  {
   "cell_type": "code",
   "execution_count": 6,
   "metadata": {},
   "outputs": [],
   "source": [
    "# loss function and optimizer\n",
    "model.compile(loss='sparse_categorical_crossentropy',\n",
    "              optimizer='sgd',\n",
    "              metrics=['accuracy'])\n",
    "\n",
    "# alternative\n",
    "# model.compile(loss=tf.keras.losses.sparse_categorical_crossentropy,\n",
    "#               optimizer=tf.keras.optimizers.SGD(),\n",
    "#               metrics=[tf.keras.metrics.sparse_categorical_accuracy])"
   ]
  },
  {
   "cell_type": "code",
   "execution_count": 7,
   "metadata": {},
   "outputs": [
    {
     "name": "stdout",
     "output_type": "stream",
     "text": [
      "Epoch 1/30\n",
      "1719/1719 [==============================] - 10s 5ms/step - loss: 0.7057 - accuracy: 0.7663 - val_loss: 0.5007 - val_accuracy: 0.8286\n",
      "Epoch 2/30\n",
      "1719/1719 [==============================] - 9s 5ms/step - loss: 0.4845 - accuracy: 0.8320 - val_loss: 0.4541 - val_accuracy: 0.8356\n",
      "Epoch 3/30\n",
      "1719/1719 [==============================] - 8s 5ms/step - loss: 0.4396 - accuracy: 0.8452 - val_loss: 0.4213 - val_accuracy: 0.8542\n",
      "Epoch 4/30\n",
      "1719/1719 [==============================] - 9s 5ms/step - loss: 0.4149 - accuracy: 0.8550 - val_loss: 0.3956 - val_accuracy: 0.8630\n",
      "Epoch 5/30\n",
      "1719/1719 [==============================] - 8s 5ms/step - loss: 0.3940 - accuracy: 0.8611 - val_loss: 0.3937 - val_accuracy: 0.8610\n",
      "Epoch 6/30\n",
      "1719/1719 [==============================] - 8s 5ms/step - loss: 0.3777 - accuracy: 0.8661 - val_loss: 0.3953 - val_accuracy: 0.8622\n",
      "Epoch 7/30\n",
      "1719/1719 [==============================] - 8s 5ms/step - loss: 0.3650 - accuracy: 0.8705 - val_loss: 0.3701 - val_accuracy: 0.8698\n",
      "Epoch 8/30\n",
      "1719/1719 [==============================] - 8s 5ms/step - loss: 0.3532 - accuracy: 0.8749 - val_loss: 0.3738 - val_accuracy: 0.8632\n",
      "Epoch 9/30\n",
      "1719/1719 [==============================] - 9s 5ms/step - loss: 0.3420 - accuracy: 0.8789 - val_loss: 0.3465 - val_accuracy: 0.8730\n",
      "Epoch 10/30\n",
      "1719/1719 [==============================] - 8s 5ms/step - loss: 0.3320 - accuracy: 0.8814 - val_loss: 0.3484 - val_accuracy: 0.8714\n",
      "Epoch 11/30\n",
      "1719/1719 [==============================] - 9s 5ms/step - loss: 0.3233 - accuracy: 0.8845 - val_loss: 0.3621 - val_accuracy: 0.8680\n",
      "Epoch 12/30\n",
      "1719/1719 [==============================] - 8s 5ms/step - loss: 0.3154 - accuracy: 0.8853 - val_loss: 0.3475 - val_accuracy: 0.8732\n",
      "Epoch 13/30\n",
      "1719/1719 [==============================] - 9s 5ms/step - loss: 0.3082 - accuracy: 0.8902 - val_loss: 0.3301 - val_accuracy: 0.8764\n",
      "Epoch 14/30\n",
      "1719/1719 [==============================] - 9s 5ms/step - loss: 0.3011 - accuracy: 0.8925 - val_loss: 0.3372 - val_accuracy: 0.8762\n",
      "Epoch 15/30\n",
      "1719/1719 [==============================] - 8s 5ms/step - loss: 0.2953 - accuracy: 0.8942 - val_loss: 0.3389 - val_accuracy: 0.8768\n",
      "Epoch 16/30\n",
      "1719/1719 [==============================] - 9s 5ms/step - loss: 0.2882 - accuracy: 0.8957 - val_loss: 0.3287 - val_accuracy: 0.8782\n",
      "Epoch 17/30\n",
      "1719/1719 [==============================] - 9s 5ms/step - loss: 0.2830 - accuracy: 0.8976 - val_loss: 0.3352 - val_accuracy: 0.8754\n",
      "Epoch 18/30\n",
      "1719/1719 [==============================] - 10s 6ms/step - loss: 0.2773 - accuracy: 0.8998 - val_loss: 0.3257 - val_accuracy: 0.8798\n",
      "Epoch 19/30\n",
      "1719/1719 [==============================] - 12s 7ms/step - loss: 0.2722 - accuracy: 0.9022 - val_loss: 0.3494 - val_accuracy: 0.8678\n",
      "Epoch 20/30\n",
      "1719/1719 [==============================] - 11s 6ms/step - loss: 0.2674 - accuracy: 0.9033 - val_loss: 0.3169 - val_accuracy: 0.8824\n",
      "Epoch 21/30\n",
      "1719/1719 [==============================] - 10s 6ms/step - loss: 0.2622 - accuracy: 0.9057 - val_loss: 0.3133 - val_accuracy: 0.8804\n",
      "Epoch 22/30\n",
      "1719/1719 [==============================] - 12s 7ms/step - loss: 0.2569 - accuracy: 0.9064 - val_loss: 0.3173 - val_accuracy: 0.8844\n",
      "Epoch 23/30\n",
      "1719/1719 [==============================] - 10s 6ms/step - loss: 0.2533 - accuracy: 0.9089 - val_loss: 0.3403 - val_accuracy: 0.8730\n",
      "Epoch 24/30\n",
      "1719/1719 [==============================] - 10s 6ms/step - loss: 0.2481 - accuracy: 0.9105 - val_loss: 0.3233 - val_accuracy: 0.8798\n",
      "Epoch 25/30\n",
      "1719/1719 [==============================] - 9s 5ms/step - loss: 0.2436 - accuracy: 0.9120 - val_loss: 0.3165 - val_accuracy: 0.8816\n",
      "Epoch 26/30\n",
      "1719/1719 [==============================] - 8s 5ms/step - loss: 0.2398 - accuracy: 0.9139 - val_loss: 0.3139 - val_accuracy: 0.8840\n",
      "Epoch 27/30\n",
      "1719/1719 [==============================] - 9s 5ms/step - loss: 0.2345 - accuracy: 0.9156 - val_loss: 0.3207 - val_accuracy: 0.8808\n",
      "Epoch 28/30\n",
      "1719/1719 [==============================] - 9s 5ms/step - loss: 0.2315 - accuracy: 0.9168 - val_loss: 0.3150 - val_accuracy: 0.8828\n",
      "Epoch 29/30\n",
      "1719/1719 [==============================] - 8s 5ms/step - loss: 0.2275 - accuracy: 0.9179 - val_loss: 0.3179 - val_accuracy: 0.8824\n",
      "Epoch 30/30\n",
      "1719/1719 [==============================] - 8s 5ms/step - loss: 0.2240 - accuracy: 0.9204 - val_loss: 0.3077 - val_accuracy: 0.8868\n"
     ]
    }
   ],
   "source": [
    "history = model.fit(X_train, y_train, epochs=30, validation_data=(X_valid, y_valid))"
   ]
  },
  {
   "cell_type": "code",
   "execution_count": 8,
   "metadata": {},
   "outputs": [
    {
     "data": {
      "image/png": "[encoded data removed]",
      "text/plain": [
       "<Figure size 800x500 with 1 Axes>"
      ]
     },
     "metadata": {},
     "output_type": "display_data"
    }
   ],
   "source": [
    "import matplotlib.pyplot as plt\n",
    "import pandas as pd\n",
    "\n",
    "pd.DataFrame(history.history).plot(\n",
    "    figsize=(8, 5), xlim=[0, 29], ylim=[0, 1], grid=True, xlabel='Epoch', style=['r--', 'r--.', 'b-', 'b-*']\n",
    ")\n",
    "plt.show()"
   ]
  },
  {
   "cell_type": "code",
   "execution_count": 9,
   "metadata": {},
   "outputs": [
    {
     "name": "stdout",
     "output_type": "stream",
     "text": [
      "313/313 [==============================] - 2s 5ms/step - loss: 0.3232 - accuracy: 0.8856\n"
     ]
    },
    {
     "data": {
      "text/plain": [
       "[0.3232048451900482, 0.8855999708175659]"
      ]
     },
     "execution_count": 9,
     "metadata": {},
     "output_type": "execute_result"
    }
   ],
   "source": [
    "model.evaluate(X_test, y_test)"
   ]
  },
  {
   "cell_type": "code",
   "execution_count": 10,
   "metadata": {},
   "outputs": [
    {
     "name": "stdout",
     "output_type": "stream",
     "text": [
      "1/1 [==============================] - 1s 840ms/step\n"
     ]
    },
    {
     "data": {
      "text/plain": [
       "array([[0.  , 0.  , 0.  , 0.  , 0.  , 0.01, 0.  , 0.01, 0.  , 0.97],\n",
       "       [0.  , 0.  , 1.  , 0.  , 0.  , 0.  , 0.  , 0.  , 0.  , 0.  ],\n",
       "       [0.  , 1.  , 0.  , 0.  , 0.  , 0.  , 0.  , 0.  , 0.  , 0.  ]],\n",
       "      dtype=float32)"
      ]
     },
     "execution_count": 10,
     "metadata": {},
     "output_type": "execute_result"
    }
   ],
   "source": [
    "X_new = X_test[:3]\n",
    "y_proba = model.predict(X_new)\n",
    "y_proba.round(2)"
   ]
  },
  {
   "cell_type": "code",
   "execution_count": 11,
   "metadata": {},
   "outputs": [
    {
     "data": {
      "text/plain": [
       "array([9, 2, 1], dtype=int64)"
      ]
     },
     "execution_count": 11,
     "metadata": {},
     "output_type": "execute_result"
    }
   ],
   "source": [
    "import numpy as np\n",
    "\n",
    "y_pred = y_proba.argmax(axis=-1)\n",
    "y_pred"
   ]
  },
  {
   "cell_type": "code",
   "execution_count": 12,
   "metadata": {},
   "outputs": [
    {
     "data": {
      "text/plain": [
       "array(['Trzewik', 'Sweter', 'Spodnie'], dtype='<U9')"
      ]
     },
     "execution_count": 12,
     "metadata": {},
     "output_type": "execute_result"
    }
   ],
   "source": [
    "np.array(class_names)[y_pred]"
   ]
  }
 ],
 "metadata": {
  "kernelspec": {
   "display_name": "venv",
   "language": "python",
   "name": "python3"
  },
  "language_info": {
   "codemirror_mode": {
    "name": "ipython",
    "version": 3
   },
   "file_extension": ".py",
   "mimetype": "text/x-python",
   "name": "python",
   "nbconvert_exporter": "python",
   "pygments_lexer": "ipython3",
   "version": "3.11.0"
  }
 },
 "nbformat": 4,
 "nbformat_minor": 2
}
