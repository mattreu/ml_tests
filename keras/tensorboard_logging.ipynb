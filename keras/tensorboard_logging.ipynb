{
 "cells": [
  {
   "cell_type": "code",
   "execution_count": 2,
   "metadata": {},
   "outputs": [],
   "source": [
    "from sklearn.datasets import fetch_california_housing\n",
    "from sklearn.model_selection import train_test_split\n",
    "import tensorflow as tf\n",
    "from pathlib import Path\n",
    "from time import strftime\n",
    "\n",
    "housing = fetch_california_housing()\n",
    "X_train_full, X_test, y_train_full, y_test = train_test_split(housing.data, housing.target, random_state=42)\n",
    "X_train, X_valid, y_train, y_valid = train_test_split(X_train_full, y_train_full, random_state=42)"
   ]
  },
  {
   "cell_type": "code",
   "execution_count": 3,
   "metadata": {},
   "outputs": [],
   "source": [
    "def get_run_logdir(root_logdir='my_logs'):\n",
    "    return Path(root_logdir) / strftime(\"run_%Y_%m_%d_%H_%M_%S\")\n",
    "\n",
    "run_logdir = get_run_logdir()\n",
    "\n",
    "tensorboard_cb = tf.keras.callbacks.TensorBoard(run_logdir, profile_batch=(100,200))"
   ]
  },
  {
   "cell_type": "code",
   "execution_count": 3,
   "metadata": {},
   "outputs": [
    {
     "name": "stdout",
     "output_type": "stream",
     "text": [
      "Epoch 1/20\n",
      "363/363 [==============================] - 2s 3ms/step - loss: 0.9308 - root_mean_squared_error: 0.9648 - val_loss: 0.6263 - val_root_mean_squared_error: 0.7914\n",
      "Epoch 2/20\n",
      "363/363 [==============================] - 1s 2ms/step - loss: 0.3898 - root_mean_squared_error: 0.6244 - val_loss: 1.9747 - val_root_mean_squared_error: 1.4052\n",
      "Epoch 3/20\n",
      "363/363 [==============================] - 1s 2ms/step - loss: 0.3703 - root_mean_squared_error: 0.6085 - val_loss: 0.3844 - val_root_mean_squared_error: 0.6200\n",
      "Epoch 4/20\n",
      "363/363 [==============================] - 1s 2ms/step - loss: 0.3457 - root_mean_squared_error: 0.5880 - val_loss: 0.8634 - val_root_mean_squared_error: 0.9292\n",
      "Epoch 5/20\n",
      "363/363 [==============================] - 1s 2ms/step - loss: 0.3481 - root_mean_squared_error: 0.5900 - val_loss: 0.3408 - val_root_mean_squared_error: 0.5838\n",
      "Epoch 6/20\n",
      "363/363 [==============================] - 1s 2ms/step - loss: 0.3199 - root_mean_squared_error: 0.5656 - val_loss: 0.3587 - val_root_mean_squared_error: 0.5989\n",
      "Epoch 7/20\n",
      "363/363 [==============================] - 1s 2ms/step - loss: 0.3177 - root_mean_squared_error: 0.5636 - val_loss: 0.4231 - val_root_mean_squared_error: 0.6504\n",
      "Epoch 8/20\n",
      "363/363 [==============================] - 1s 2ms/step - loss: 0.3093 - root_mean_squared_error: 0.5562 - val_loss: 0.4340 - val_root_mean_squared_error: 0.6588\n",
      "Epoch 9/20\n",
      "363/363 [==============================] - 1s 2ms/step - loss: 0.3112 - root_mean_squared_error: 0.5578 - val_loss: 1.9299 - val_root_mean_squared_error: 1.3892\n",
      "Epoch 10/20\n",
      "363/363 [==============================] - 1s 2ms/step - loss: 0.3188 - root_mean_squared_error: 0.5646 - val_loss: 2.4040 - val_root_mean_squared_error: 1.5505\n",
      "Epoch 11/20\n",
      "363/363 [==============================] - 1s 2ms/step - loss: 0.3028 - root_mean_squared_error: 0.5503 - val_loss: 0.2953 - val_root_mean_squared_error: 0.5434\n",
      "Epoch 12/20\n",
      "363/363 [==============================] - 1s 2ms/step - loss: 0.3021 - root_mean_squared_error: 0.5497 - val_loss: 0.5038 - val_root_mean_squared_error: 0.7098\n",
      "Epoch 13/20\n",
      "363/363 [==============================] - 1s 3ms/step - loss: 0.2886 - root_mean_squared_error: 0.5372 - val_loss: 0.3064 - val_root_mean_squared_error: 0.5535\n",
      "Epoch 14/20\n",
      "363/363 [==============================] - 1s 2ms/step - loss: 0.2885 - root_mean_squared_error: 0.5372 - val_loss: 0.2948 - val_root_mean_squared_error: 0.5430\n",
      "Epoch 15/20\n",
      "363/363 [==============================] - 1s 2ms/step - loss: 0.2843 - root_mean_squared_error: 0.5332 - val_loss: 0.3870 - val_root_mean_squared_error: 0.6221\n",
      "Epoch 16/20\n",
      "363/363 [==============================] - 1s 2ms/step - loss: 0.2842 - root_mean_squared_error: 0.5331 - val_loss: 0.3333 - val_root_mean_squared_error: 0.5773\n",
      "Epoch 17/20\n",
      "363/363 [==============================] - 1s 2ms/step - loss: 0.2804 - root_mean_squared_error: 0.5295 - val_loss: 0.4764 - val_root_mean_squared_error: 0.6902\n",
      "Epoch 18/20\n",
      "363/363 [==============================] - 1s 2ms/step - loss: 0.2755 - root_mean_squared_error: 0.5249 - val_loss: 0.2754 - val_root_mean_squared_error: 0.5248\n",
      "Epoch 19/20\n",
      "363/363 [==============================] - 1s 3ms/step - loss: 0.2729 - root_mean_squared_error: 0.5224 - val_loss: 0.3776 - val_root_mean_squared_error: 0.6145\n",
      "Epoch 20/20\n",
      "363/363 [==============================] - 1s 3ms/step - loss: 0.2755 - root_mean_squared_error: 0.5249 - val_loss: 0.2700 - val_root_mean_squared_error: 0.5196\n"
     ]
    }
   ],
   "source": [
    "tf.random.set_seed(42)\n",
    "norm_layer = tf.keras.layers.Normalization(input_shape=X_train.shape[1:])\n",
    "model = tf.keras.Sequential([\n",
    "    norm_layer,\n",
    "    tf.keras.layers.Dense(50, activation='relu'),\n",
    "    tf.keras.layers.Dense(50, activation='relu'),\n",
    "    tf.keras.layers.Dense(50, activation='relu'),\n",
    "    tf.keras.layers.Dense(1)\n",
    "])\n",
    "optimizer = tf.keras.optimizers.Adam(learning_rate=1e-3)\n",
    "model.compile(loss='mse', optimizer=optimizer, metrics=['RootMeanSquaredError'])\n",
    "norm_layer.adapt(X_train)\n",
    "history = model.fit(X_train, y_train, epochs=20, validation_data=(X_valid, y_valid), callbacks=[tensorboard_cb])"
   ]
  },
  {
   "cell_type": "code",
   "execution_count": 4,
   "metadata": {},
   "outputs": [],
   "source": [
    "import numpy as np\n",
    "\n",
    "test_logdir = get_run_logdir()\n",
    "writer = tf.summary.create_file_writer(str(test_logdir))\n",
    "with writer.as_default():\n",
    "    for step in range(1,1000+1):\n",
    "        tf.summary.scalar('my_scalar', np.sin(step/10), step=step)\n",
    "\n",
    "        data = (np.random.randn(100) + 2 * step / 100)\n",
    "        tf.summary.histogram('my_hist', data, buckets=50, step=step)\n",
    "\n",
    "        images = np.random.randn(2, 32, 32, 3) * step / 1000\n",
    "        tf.summary.image('my_images', images, step=step)\n",
    "\n",
    "        texts = ['Krok wynosi ' + str(step), 'Jego kwadrat to ' + str(step ** 2)]\n",
    "        tf.summary.text('my_text', texts, step=step)\n",
    "\n",
    "        sine_wave = tf.math.sin(tf.range(12000) / 48000 * 2 * np.pi * step)\n",
    "        audio = tf.reshape(tf.cast(sine_wave, tf.float32), [1, -1, 1])\n",
    "        tf.summary.audio('my_audio', audio, sample_rate=48000, step=step)"
   ]
  }
 ],
 "metadata": {
  "kernelspec": {
   "display_name": "venv",
   "language": "python",
   "name": "python3"
  },
  "language_info": {
   "codemirror_mode": {
    "name": "ipython",
    "version": 3
   },
   "file_extension": ".py",
   "mimetype": "text/x-python",
   "name": "python",
   "nbconvert_exporter": "python",
   "pygments_lexer": "ipython3",
   "version": "3.11.0"
  }
 },
 "nbformat": 4,
 "nbformat_minor": 2
}
