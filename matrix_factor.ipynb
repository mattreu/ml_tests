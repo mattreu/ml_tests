{
 "cells": [
  {
   "cell_type": "code",
   "execution_count": 9,
   "metadata": {},
   "outputs": [
    {
     "name": "stdout",
     "output_type": "stream",
     "text": [
      "Rekomendacje dla użytkownika 0 : [5.        4.        3.3026002]\n"
     ]
    }
   ],
   "source": [
    "import numpy as np\n",
    "\n",
    "# Dane uczące (oceny użytkowników dla przedmiotów)\n",
    "ratings = np.array([[5, 4, 0],\n",
    "                    [0, 3, 4],\n",
    "                    [4, 0, 2]])\n",
    "\n",
    "# Liczba ukrytych faktorów\n",
    "num_factors = 2\n",
    "\n",
    "# Inicjalizacja macierzy użytkowników-faktorów i przedmiotów-faktorów\n",
    "num_users, num_items = ratings.shape\n",
    "user_factors = np.random.rand(num_users, num_factors)\n",
    "item_factors = np.random.rand(num_items, num_factors)\n",
    "\n",
    "# user_factors = np.ones((num_users, num_factors))\n",
    "# item_factors = np.ones((num_items, num_factors))\n",
    "\n",
    "# Parametry uczenia\n",
    "learning_rate = 0.1\n",
    "num_epochs = 10000\n",
    "\n",
    "# Uczenie faktoryzacji macierzy\n",
    "for epoch in range(num_epochs):\n",
    "    for i in range(num_users):\n",
    "        for j in range(num_items):\n",
    "            if ratings[i, j] > 0: # tylko ocenione filmy\n",
    "                prediction = np.dot(user_factors[i], item_factors[j])\n",
    "                error = ratings[i, j] - prediction\n",
    "                \n",
    "                # Aktualizacja faktorów użytkownika i przedmiotu\n",
    "                user_factors[i] += learning_rate * (error * item_factors[j])\n",
    "                item_factors[j] += learning_rate * (error * user_factors[i])\n",
    "\n",
    "# Generowanie rekomendacji dla użytkownika\n",
    "def generate_recommendations(user_index):\n",
    "    user_vector = user_factors[user_index]\n",
    "    recommendations = np.dot(user_vector, item_factors.T)\n",
    "    return recommendations\n",
    "\n",
    "# Przykład generowania rekomendacji dla użytkownika o indeksie 0\n",
    "user_index = 0\n",
    "recommendations = generate_recommendations(user_index)\n",
    "print(\"Rekomendacje dla użytkownika\", user_index, \":\", recommendations)\n"
   ]
  }
 ],
 "metadata": {
  "kernelspec": {
   "display_name": "venv",
   "language": "python",
   "name": "python3"
  },
  "language_info": {
   "codemirror_mode": {
    "name": "ipython",
    "version": 3
   },
   "file_extension": ".py",
   "mimetype": "text/x-python",
   "name": "python",
   "nbconvert_exporter": "python",
   "pygments_lexer": "ipython3",
   "version": "3.11.0"
  },
  "orig_nbformat": 4
 },
 "nbformat": 4,
 "nbformat_minor": 2
}
