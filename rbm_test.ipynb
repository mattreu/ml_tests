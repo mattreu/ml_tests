{
 "cells": [
  {
   "cell_type": "code",
   "execution_count": 1,
   "metadata": {},
   "outputs": [
    {
     "name": "stdout",
     "output_type": "stream",
     "text": [
      "[5 4 0]\n",
      "\n",
      "[[ 2.91098897  1.24655253]\n",
      " [ 0.1598881  -1.40081823]\n",
      " [ 1.38336534  0.03617691]]\n",
      "\n",
      "[15.19449723  0.62948973]\n",
      "\n",
      "[0.99999975 0.65237375]\n",
      "\n",
      "[1 0]\n",
      "\n",
      "Rekomendowane filmy dla użytkownika U1: [0 1]\n"
     ]
    }
   ],
   "source": [
    "import numpy as np\n",
    "\n",
    "# Dane uczące (oceny filmów przez użytkowników)\n",
    "data = np.array([[5, 4, 0],\n",
    "                 [0, 3, 4],\n",
    "                 [4, 0, 2]])\n",
    "\n",
    "# Inicjalizacja wag\n",
    "num_visible = data.shape[1]\n",
    "num_hidden = 2\n",
    "weights = np.random.randn(num_visible, num_hidden) # Wagi połączeń\n",
    "bias_visible = np.zeros(num_visible) # Wagi widocznych\n",
    "bias_hidden = np.zeros(num_hidden) # Wagi ukrytych\n",
    "\n",
    "# Parametry algorytmu\n",
    "learning_rate = 0.1\n",
    "num_epochs = 100\n",
    "\n",
    "# Uczenie RBM przy użyciu algorytmu CD\n",
    "once = 1\n",
    "for epoch in range(num_epochs):\n",
    "    for sample in data:\n",
    "        # Etap generacji ukrytych jednostek\n",
    "        hidden_activations = np.dot(sample, weights) + bias_hidden\n",
    "        hidden_probs = 1 / (1 + np.exp(-hidden_activations)) # logistic function\n",
    "        hidden_states = np.random.binomial(1, hidden_probs)\n",
    "        \n",
    "        # Etap generacji rekonstrukcji\n",
    "        visible_activations = np.dot(hidden_states, weights.T) + bias_visible\n",
    "        visible_probs = 1 / (1 + np.exp(-visible_activations))\n",
    "        visible_states = np.random.binomial(1, visible_probs)\n",
    "        \n",
    "        # Ponowna generacja ukrytych jednostek\n",
    "        hidden_activations_recon = np.dot(visible_states, weights) + bias_hidden\n",
    "        hidden_probs_recon = 1 / (1 + np.exp(-hidden_activations_recon))\n",
    "        \n",
    "        # Obliczanie gradientu (macierz 0 i 1 )\n",
    "        pos_gradient = np.outer(sample, hidden_probs)\n",
    "        neg_gradient = np.outer(visible_states, hidden_probs_recon)\n",
    "        if once:\n",
    "            print(f'{sample}\\n')\n",
    "            print(f'{weights}\\n')\n",
    "            print(f'{hidden_activations}\\n')\n",
    "            print(f'{hidden_probs}\\n')\n",
    "            print(f'{hidden_states}\\n')\n",
    "            once = 0\n",
    "        \n",
    "        # Aktualizacja wag\n",
    "        weights += learning_rate * (pos_gradient - neg_gradient)\n",
    "        bias_visible += learning_rate * (sample - visible_states)\n",
    "        bias_hidden += learning_rate * (hidden_probs - hidden_probs_recon)\n",
    "\n",
    "# Generowanie rekomendacji dla danego użytkownika\n",
    "def generate_recommendations(user):\n",
    "    hidden_activations = np.dot(user, weights) + bias_hidden\n",
    "    hidden_probs = 1 / (1 + np.exp(-hidden_activations))\n",
    "    recommended_movies = np.where(hidden_probs > 0.5)[0]\n",
    "    return recommended_movies\n",
    "\n",
    "# Przykład generowania rekomendacji dla użytkownika U1\n",
    "user_U1 = data[0]\n",
    "recommendations_U1 = generate_recommendations(user_U1)\n",
    "print(\"Rekomendowane filmy dla użytkownika U1:\", recommendations_U1)\n"
   ]
  }
 ],
 "metadata": {
  "kernelspec": {
   "display_name": "Python 3 (ipykernel)",
   "language": "python",
   "name": "python3"
  },
  "language_info": {
   "codemirror_mode": {
    "name": "ipython",
    "version": 3
   },
   "file_extension": ".py",
   "mimetype": "text/x-python",
   "name": "python",
   "nbconvert_exporter": "python",
   "pygments_lexer": "ipython3",
   "version": "3.11.0"
  }
 },
 "nbformat": 4,
 "nbformat_minor": 4
}
